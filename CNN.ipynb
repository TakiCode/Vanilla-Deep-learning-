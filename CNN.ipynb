{
 "cells": [
  {
   "cell_type": "code",
   "execution_count": 15,
   "metadata": {},
   "outputs": [],
   "source": [
    "import tensorflow as tf\n",
    "from tensorflow import keras\n",
    "from tensorflow.keras.layers import Flatten\n",
    "from tensorflow.keras.layers import Dense\n",
    "from tensorflow.keras.layers import Dropout\n",
    "from tensorflow.keras.layers import Conv2D\n",
    "from tensorflow.keras.layers import AveragePooling2D\n",
    "from tensorflow.keras.layers import Reshape\n",
    "\n",
    "from matplotlib import pyplot as plt\n",
    "import numpy as np"
   ]
  },
  {
   "cell_type": "code",
   "execution_count": 16,
   "metadata": {},
   "outputs": [],
   "source": [
    "%matplotlib inline"
   ]
  },
  {
   "cell_type": "code",
   "execution_count": 2,
   "metadata": {},
   "outputs": [],
   "source": [
    "#tf.debugging.set_log_device_placement(True)"
   ]
  },
  {
   "cell_type": "code",
   "execution_count": 3,
   "metadata": {},
   "outputs": [
    {
     "data": {
      "text/plain": [
       "True"
      ]
     },
     "execution_count": 3,
     "metadata": {},
     "output_type": "execute_result"
    }
   ],
   "source": [
    "tf.test.is_gpu_available()"
   ]
  },
  {
   "cell_type": "code",
   "execution_count": 4,
   "metadata": {},
   "outputs": [
    {
     "name": "stdout",
     "output_type": "stream",
     "text": [
      "60000 train samples\n",
      "10000 test samples\n"
     ]
    }
   ],
   "source": [
    "(x_train, y_train), (x_test, y_test) = tf.keras.datasets.mnist.load_data()\n",
    "x_train = x_train.astype('float32')\n",
    "x_test = x_test.astype('float32')\n",
    "x_train /= 255\n",
    "x_test /= 255\n",
    "\n",
    "print(x_train.shape[0], 'train samples')\n",
    "print(x_test.shape[0], 'test samples')\n",
    "\n",
    "num_classes = 10\n",
    "\n",
    "# convert class vectors to binary class matrices"
   ]
  },
  {
   "cell_type": "code",
   "execution_count": 5,
   "metadata": {},
   "outputs": [],
   "source": [
    "def zeropad(dataset,n=2):\n",
    "    return np.pad(dataset,((0,0),(n,n),(n,n)))"
   ]
  },
  {
   "cell_type": "code",
   "execution_count": 6,
   "metadata": {},
   "outputs": [],
   "source": [
    "x_train = zeropad(x_train)\n",
    "x_test = zeropad(x_test)"
   ]
  },
  {
   "cell_type": "code",
   "execution_count": 7,
   "metadata": {},
   "outputs": [],
   "source": [
    "x_train = x_train[:,:,:,np.newaxis]\n",
    "x_test = x_test[:,:,:,np.newaxis]"
   ]
  },
  {
   "cell_type": "code",
   "execution_count": 8,
   "metadata": {},
   "outputs": [],
   "source": [
    "y_train_one_hot = tf.keras.utils.to_categorical(y_train, num_classes)\n",
    "y_test_one_hot = tf.keras.utils.to_categorical(y_test, num_classes)"
   ]
  },
  {
   "cell_type": "code",
   "execution_count": 9,
   "metadata": {},
   "outputs": [],
   "source": [
    "BATCH_SIZE = 32\n",
    "EPOCHS = 20\n",
    "STEPS_PER_EPOCH = 60000//BATCH_SIZE"
   ]
  },
  {
   "cell_type": "code",
   "execution_count": 10,
   "metadata": {},
   "outputs": [],
   "source": [
    "LeNet5 = tf.keras.Sequential([Conv2D(filters = 6, kernel_size=(5,5), strides=(1,1),activation='relu', input_shape = (32,32,1)),\n",
    "                             AveragePooling2D(pool_size=(2,2)),\n",
    "                             Conv2D(filters = 16, kernel_size = (5,5), strides=(1,1), activation='relu'),\n",
    "                             AveragePooling2D(pool_size=(2,2)), \n",
    "                             Flatten(),\n",
    "                             Dense(120,activation='relu'),\n",
    "                             Dense(84, activation='relu'),\n",
    "                             Dense(10, activation='softmax')])"
   ]
  },
  {
   "cell_type": "code",
   "execution_count": 11,
   "metadata": {},
   "outputs": [
    {
     "name": "stdout",
     "output_type": "stream",
     "text": [
      "Model: \"sequential\"\n",
      "_________________________________________________________________\n",
      "Layer (type)                 Output Shape              Param #   \n",
      "=================================================================\n",
      "conv2d (Conv2D)              (None, 28, 28, 6)         156       \n",
      "_________________________________________________________________\n",
      "average_pooling2d (AveragePo (None, 14, 14, 6)         0         \n",
      "_________________________________________________________________\n",
      "conv2d_1 (Conv2D)            (None, 10, 10, 16)        2416      \n",
      "_________________________________________________________________\n",
      "average_pooling2d_1 (Average (None, 5, 5, 16)          0         \n",
      "_________________________________________________________________\n",
      "flatten (Flatten)            (None, 400)               0         \n",
      "_________________________________________________________________\n",
      "dense (Dense)                (None, 120)               48120     \n",
      "_________________________________________________________________\n",
      "dense_1 (Dense)              (None, 84)                10164     \n",
      "_________________________________________________________________\n",
      "dense_2 (Dense)              (None, 10)                850       \n",
      "=================================================================\n",
      "Total params: 61,706\n",
      "Trainable params: 61,706\n",
      "Non-trainable params: 0\n",
      "_________________________________________________________________\n"
     ]
    }
   ],
   "source": [
    "LeNet5.summary()"
   ]
  },
  {
   "cell_type": "code",
   "execution_count": 12,
   "metadata": {},
   "outputs": [],
   "source": [
    "LeNet5.compile(optimizer=tf.keras.optimizers.SGD(),loss='categorical_crossentropy',metrics=['accuracy'])"
   ]
  },
  {
   "cell_type": "code",
   "execution_count": 13,
   "metadata": {},
   "outputs": [
    {
     "name": "stdout",
     "output_type": "stream",
     "text": [
      "Train on 60000 samples\n",
      "Epoch 1/20\n",
      "60000/60000 [==============================] - 5s 77us/sample - loss: 0.7313 - accuracy: 0.7785\n",
      "Epoch 2/20\n",
      "60000/60000 [==============================] - 4s 59us/sample - loss: 0.2047 - accuracy: 0.9387\n",
      "Epoch 3/20\n",
      "60000/60000 [==============================] - 5s 81us/sample - loss: 0.1471 - accuracy: 0.9566\n",
      "Epoch 4/20\n",
      "60000/60000 [==============================] - 3s 57us/sample - loss: 0.1158 - accuracy: 0.9657\n",
      "Epoch 5/20\n",
      "60000/60000 [==============================] - 3s 50us/sample - loss: 0.0952 - accuracy: 0.9707\n",
      "Epoch 6/20\n",
      "60000/60000 [==============================] - 3s 57us/sample - loss: 0.0819 - accuracy: 0.9753\n",
      "Epoch 7/20\n",
      "60000/60000 [==============================] - 3s 54us/sample - loss: 0.0731 - accuracy: 0.9774\n",
      "Epoch 8/20\n",
      "60000/60000 [==============================] - 4s 68us/sample - loss: 0.0654 - accuracy: 0.9805\n",
      "Epoch 9/20\n",
      "60000/60000 [==============================] - 4s 65us/sample - loss: 0.0596 - accuracy: 0.9815\n",
      "Epoch 10/20\n",
      "60000/60000 [==============================] - 4s 62us/sample - loss: 0.0548 - accuracy: 0.9832\n",
      "Epoch 11/20\n",
      "60000/60000 [==============================] - 4s 59us/sample - loss: 0.0502 - accuracy: 0.9849\n",
      "Epoch 12/20\n",
      "60000/60000 [==============================] - 3s 57us/sample - loss: 0.0460 - accuracy: 0.9856\n",
      "Epoch 13/20\n",
      "60000/60000 [==============================] - 3s 50us/sample - loss: 0.0438 - accuracy: 0.9866\n",
      "Epoch 14/20\n",
      "60000/60000 [==============================] - 3s 51us/sample - loss: 0.0405 - accuracy: 0.9872\n",
      "Epoch 15/20\n",
      "60000/60000 [==============================] - 5s 76us/sample - loss: 0.0381 - accuracy: 0.9879\n",
      "Epoch 16/20\n",
      "60000/60000 [==============================] - 3s 53us/sample - loss: 0.0358 - accuracy: 0.9884\n",
      "Epoch 17/20\n",
      "60000/60000 [==============================] - 3s 53us/sample - loss: 0.0333 - accuracy: 0.9893\n",
      "Epoch 18/20\n",
      "60000/60000 [==============================] - 3s 51us/sample - loss: 0.0318 - accuracy: 0.9900\n",
      "Epoch 19/20\n",
      "60000/60000 [==============================] - 3s 56us/sample - loss: 0.0295 - accuracy: 0.9908\n",
      "Epoch 20/20\n",
      "60000/60000 [==============================] - 3s 56us/sample - loss: 0.0278 - accuracy: 0.9914\n"
     ]
    }
   ],
   "source": [
    "history = LeNet5.fit(x=x_train,y=y_train_one_hot,batch_size=BATCH_SIZE,epochs=EPOCHS,steps_per_epoch=STEPS_PER_EPOCH)"
   ]
  },
  {
   "cell_type": "code",
   "execution_count": 85,
   "metadata": {},
   "outputs": [],
   "source": [
    "layer_outputs = [layer.output for layer in LeNet5.layers]\n",
    "activation_model = tf.keras.models.Model(inputs=LeNet5.input, outputs=layer_outputs)"
   ]
  },
  {
   "cell_type": "code",
   "execution_count": 125,
   "metadata": {},
   "outputs": [
    {
     "data": {
      "text/plain": [
       "[<tf.Tensor 'conv2d/Identity:0' shape=(None, 28, 28, 6) dtype=float32>,\n",
       " <tf.Tensor 'average_pooling2d/Identity:0' shape=(None, 14, 14, 6) dtype=float32>,\n",
       " <tf.Tensor 'conv2d_1/Identity:0' shape=(None, 10, 10, 16) dtype=float32>,\n",
       " <tf.Tensor 'average_pooling2d_1/Identity:0' shape=(None, 5, 5, 16) dtype=float32>,\n",
       " <tf.Tensor 'flatten/Identity:0' shape=(None, 400) dtype=float32>,\n",
       " <tf.Tensor 'dense/Identity:0' shape=(None, 120) dtype=float32>,\n",
       " <tf.Tensor 'dense_1/Identity:0' shape=(None, 84) dtype=float32>,\n",
       " <tf.Tensor 'dense_2/Identity:0' shape=(None, 10) dtype=float32>]"
      ]
     },
     "execution_count": 125,
     "metadata": {},
     "output_type": "execute_result"
    }
   ],
   "source": [
    "layer_outputs"
   ]
  },
  {
   "cell_type": "code",
   "execution_count": 93,
   "metadata": {},
   "outputs": [],
   "source": [
    "activations = activation_model.predict(x_test)"
   ]
  },
  {
   "cell_type": "code",
   "execution_count": 145,
   "metadata": {},
   "outputs": [
    {
     "name": "stdout",
     "output_type": "stream",
     "text": [
      "(10000, 10, 10, 16)\n"
     ]
    }
   ],
   "source": [
    "print(activations[2].shape)"
   ]
  },
  {
   "cell_type": "code",
   "execution_count": 155,
   "metadata": {},
   "outputs": [
    {
     "data": {
      "text/plain": [
       "<matplotlib.image.AxesImage at 0x7f3047ba1710>"
      ]
     },
     "execution_count": 155,
     "metadata": {},
     "output_type": "execute_result"
    },
    {
     "data": {
      "image/png": "[encoded data removed]",
      "text/plain": [
       "<Figure size 288x288 with 1 Axes>"
      ]
     },
     "metadata": {
      "needs_background": "light"
     },
     "output_type": "display_data"
    }
   ],
   "source": [
    "plt.matshow(activations[2][1,:,:,10])"
   ]
  },
  {
   "cell_type": "code",
   "execution_count": null,
   "metadata": {},
   "outputs": [],
   "source": [
    "class LeNet5b(tf.keras.Model):\n",
    "    \n",
    "    def __init__(self):\n",
    "        super(LeNet5b,self).__init__()\n",
    "        self.conv1 = Conv2D(filters = 6, kernel_size=(5,5), strides=(1,1),activation='relu', input_shape = (32,32,1))\n",
    "        self.pool1 = AveragePooling2D(pool_size=(2,2))\n",
    "        self.conv2 = Conv2D(filters = 16, kernel_size = (5,5), strides=(1,1), activation='relu')\n",
    "        self.pool2 = AveragePooling2D(pool_size=(2,2))\n",
    "        self.flatten = Flatten()\n",
    "        self.fc1 = Dense(120,activation='relu')\n",
    "        self.fc2 = Dense(84, activation='relu')\n",
    "        self.fc3 = Dense(10, activation='softmax')\n",
    "        \n",
    "    def call(self,x):\n",
    "        x = self.conv1(x)\n",
    "        x = self.pool1(x)\n",
    "        x = self.conv2(x)\n",
    "        x = self.pool2(x)\n",
    "        x = self.flatten(x)\n",
    "        x = self.fc1(x)\n",
    "        x = self.fc2(x)\n",
    "        return self.fc3(x)"
   ]
  },
  {
   "cell_type": "code",
   "execution_count": null,
   "metadata": {},
   "outputs": [],
   "source": [
    "lenet5b = LeNet5b()\n",
    "lenet5b.compile(optimizer=tf.keras.optimizers.SGD(),loss='categorical_crossentropy',metrics=['accuracy'])"
   ]
  },
  {
   "cell_type": "code",
   "execution_count": null,
   "metadata": {},
   "outputs": [],
   "source": [
    "history = lenet5b.fit(x_train,y_train_one_hot,batch_size=BATCH_SIZE,epochs=EPOCHS,steps_per_epoch=STEPS_PER_EPOCH, shuffle=True, verbose=1)"
   ]
  },
  {
   "cell_type": "code",
   "execution_count": null,
   "metadata": {},
   "outputs": [],
   "source": [
    "def mlp_class(predictions):\n",
    "    return np.argmax(predictions,axis = 1)\n",
    "\n",
    "def score(y_true,predictions):\n",
    "    predictions = mlp_class(predictions)\n",
    "    return np.sum(y_true == predictions)/10000"
   ]
  },
  {
   "cell_type": "code",
   "execution_count": null,
   "metadata": {},
   "outputs": [],
   "source": [
    "predictions = lenet5b.predict(x_test)"
   ]
  },
  {
   "cell_type": "code",
   "execution_count": null,
   "metadata": {},
   "outputs": [],
   "source": [
    "accuracy = score(y_test,predictions)"
   ]
  },
  {
   "cell_type": "code",
   "execution_count": null,
   "metadata": {},
   "outputs": [],
   "source": [
    "print(\"Accuracy: {}\".format(accuracy))"
   ]
  }
 ],
 "metadata": {
  "kernelspec": {
   "display_name": "Python 3",
   "language": "python",
   "name": "python3"
  },
  "language_info": {
   "codemirror_mode": {
    "name": "ipython",
    "version": 3
   },
   "file_extension": ".py",
   "mimetype": "text/x-python",
   "name": "python",
   "nbconvert_exporter": "python",
   "pygments_lexer": "ipython3",
   "version": "3.7.5"
  }
 },
 "nbformat": 4,
 "nbformat_minor": 2
}
